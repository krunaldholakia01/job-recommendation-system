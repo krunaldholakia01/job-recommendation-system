{
 "cells": [
  {
   "cell_type": "code",
   "execution_count": 1,
   "id": "a2f0718a",
   "metadata": {},
   "outputs": [],
   "source": [
    "from selenium import webdriver\n",
    "from selenium.webdriver.common.keys import Keys\n",
    "from selenium.webdriver.common.action_chains import ActionChains\n",
    "from selenium.common.exceptions import NoSuchElementException, WebDriverException\n",
    "from bs4 import BeautifulSoup as BS4\n",
    "from scrapy import spiders\n",
    "from scrapy.spiders import CrawlSpider, Rule\n",
    "\n",
    "import scrapy\n",
    "import yaml\n",
    "import getpass\n",
    "import time\n",
    "import json\n",
    "import pandas as pd\n",
    "import os\n"
   ]
  },
  {
   "cell_type": "code",
   "execution_count": 2,
   "id": "7addd855",
   "metadata": {},
   "outputs": [],
   "source": [
    "options = webdriver.ChromeOptions()\n",
    "# options.add_argument('headless')\n",
    "\n",
    "driver = webdriver.Chrome('./chromedriver', options=options)\n",
    "driver.maximize_window()\n",
    "actions = ActionChains(driver)"
   ]
  },
  {
   "cell_type": "code",
   "execution_count": 3,
   "id": "2a074519",
   "metadata": {},
   "outputs": [],
   "source": [
    "files = []\n",
    "for file in os.listdir('./JSON'):\n",
    "    if file.endswith('.json'):\n",
    "        files.append(os.path.join('./JSON', file))\n",
    "\n",
    "for file in files:\n",
    "    with open(file) as fp:\n",
    "        data = json.load(fp)\n",
    "\n",
    "links = []\n",
    "for i in data:\n",
    "    links.append(i['link'])\n",
    "        "
   ]
  },
  {
   "cell_type": "code",
   "execution_count": 4,
   "id": "a7cc46b7",
   "metadata": {},
   "outputs": [
    {
     "name": "stdout",
     "output_type": "stream",
     "text": [
      "Message: no such element: Unable to locate element: {\"method\":\"xpath\",\"selector\":\"//h1[@class=\"top-card-layout__title topcard__title\"]\"}\n",
      "  (Session info: chrome=92.0.4515.159)\n",
      "\n",
      "Message: no such element: Unable to locate element: {\"method\":\"xpath\",\"selector\":\"//h1[@class=\"top-card-layout__title topcard__title\"]\"}\n",
      "  (Session info: chrome=92.0.4515.159)\n",
      "\n"
     ]
    },
    {
     "ename": "KeyboardInterrupt",
     "evalue": "",
     "output_type": "error",
     "traceback": [
      "\u001b[0;31m---------------------------------------------------------------------------\u001b[0m",
      "\u001b[0;31mKeyboardInterrupt\u001b[0m                         Traceback (most recent call last)",
      "\u001b[0;32m/tmp/ipykernel_77074/4078717003.py\u001b[0m in \u001b[0;36m<module>\u001b[0;34m\u001b[0m\n\u001b[1;32m      5\u001b[0m \u001b[0;34m\u001b[0m\u001b[0m\n\u001b[1;32m      6\u001b[0m         \u001b[0;32mif\u001b[0m \u001b[0mdriver\u001b[0m\u001b[0;34m.\u001b[0m\u001b[0mcurrent_url\u001b[0m \u001b[0;34m!=\u001b[0m \u001b[0mlink\u001b[0m\u001b[0;34m:\u001b[0m\u001b[0;34m\u001b[0m\u001b[0;34m\u001b[0m\u001b[0m\n\u001b[0;32m----> 7\u001b[0;31m             \u001b[0mtime\u001b[0m\u001b[0;34m.\u001b[0m\u001b[0msleep\u001b[0m\u001b[0;34m(\u001b[0m\u001b[0;36m3\u001b[0m\u001b[0;34m)\u001b[0m\u001b[0;34m\u001b[0m\u001b[0;34m\u001b[0m\u001b[0m\n\u001b[0m\u001b[1;32m      8\u001b[0m             \u001b[0mdriver\u001b[0m\u001b[0;34m.\u001b[0m\u001b[0mget\u001b[0m\u001b[0;34m(\u001b[0m\u001b[0mlink\u001b[0m\u001b[0;34m)\u001b[0m\u001b[0;34m\u001b[0m\u001b[0;34m\u001b[0m\u001b[0m\n\u001b[1;32m      9\u001b[0m \u001b[0;34m\u001b[0m\u001b[0m\n",
      "\u001b[0;31mKeyboardInterrupt\u001b[0m: "
     ]
    }
   ],
   "source": [
    "jobs = []\n",
    "for link in links:\n",
    "    try:\n",
    "        driver.get(link)\n",
    "        \n",
    "        if driver.current_url != link:\n",
    "            time.sleep(3)\n",
    "            driver.get(link)\n",
    "            \n",
    "        time.sleep(3)\n",
    "        info = {}\n",
    "        info['jobtitle'] = driver.find_element_by_xpath('//h1[@class=\"top-card-layout__title topcard__title\"]').text\n",
    "        info['employer'] = driver.find_element_by_xpath('//a[@data-tracking-control-name=\"public_jobs_topcard-org-name\"]').text\n",
    "        info['location'] = driver.find_element_by_xpath('//div[@class=\"topcard__flavor-row\"]/span[2]').text\n",
    "        info['seniorityLevel'] = driver.find_element_by_xpath('//ul[@class=\"description__job-criteria-list\"]/li[1]/span').text\n",
    "        info['employmentType'] = driver.find_element_by_xpath('//ul[@class=\"description__job-criteria-list\"]/li[2]/span').text\n",
    "        info['jobFunction'] = driver.find_element_by_xpath('//ul[@class=\"description__job-criteria-list\"]/li[3]/span').text\n",
    "        info['industry'] = driver.find_element_by_xpath('//ul[@class=\"description__job-criteria-list\"]/li[4]/span').text\n",
    "\n",
    "        try:\n",
    "            info['salaryRange'] = driver.find_element_by_xpath('//div[@class=\"salary compensation__salary\"]').text\n",
    "        except:\n",
    "            info['salaryRange'] = ''\n",
    "\n",
    "        try:\n",
    "            info['jobStatus'] = driver.find_element_by_xpath('//figcaption[@class=\"closed-job__flavor--closed\"]').text\n",
    "        except:\n",
    "            info['jobStatus'] = 'Open'\n",
    "\n",
    "        driver.find_element_by_xpath('//button[@data-tracking-control-name=\"public_jobs_show-more-html-btn\"]').click()\n",
    "\n",
    "        info['description'] = [tag.text for tag in driver.find_elements_by_xpath('//div[@class=\"show-more-less-html__markup\"]')]\n",
    "        jobs.append(info)\n",
    "        \n",
    "    except Exception as e:\n",
    "        print(e)"
   ]
  },
  {
   "cell_type": "code",
   "execution_count": null,
   "id": "8f5728b3",
   "metadata": {},
   "outputs": [],
   "source": [
    "jobs"
   ]
  },
  {
   "cell_type": "code",
   "execution_count": null,
   "id": "af6c9746",
   "metadata": {},
   "outputs": [],
   "source": [
    "data = pd.DataFrame(jobs)\n",
    "\n",
    "data.to_csv('./J/JobData.csv')"
   ]
  },
  {
   "cell_type": "code",
   "execution_count": null,
   "id": "0db6a971",
   "metadata": {},
   "outputs": [],
   "source": []
  }
 ],
 "metadata": {
  "kernelspec": {
   "display_name": "Python 3 (ipykernel)",
   "language": "python",
   "name": "python3"
  },
  "language_info": {
   "codemirror_mode": {
    "name": "ipython",
    "version": 3
   },
   "file_extension": ".py",
   "mimetype": "text/x-python",
   "name": "python",
   "nbconvert_exporter": "python",
   "pygments_lexer": "ipython3",
   "version": "3.7.11"
  }
 },
 "nbformat": 4,
 "nbformat_minor": 5
}
